{
 "cells": [
  {
   "cell_type": "markdown",
   "id": "b6ace4b5-870d-4086-b164-08ecbfff4ef2",
   "metadata": {},
   "source": [
    "## Arbeidkrav 2\n",
    "### Kurs ved USN PY1010\n",
    "#### Levert av Ann Karin Myrland Halvorsen, ann.karin.halvorsen@vegvesen.no (ann.karin.halvorsen@icloud.com)\n",
    "\n",
    "#### Jeg har valgt å levere oppgaven i en Jupyter Notebook siden dette er integrert i programvaren jeg bruker på jobb som er Arcgis Pro. \n",
    "\n",
    "#### I oppgavene under har jeg laget ulike programmer hvor brukeren aktivt skal gi inn input og få ut svar. Hver oppgave er beskrevet i en markdown-celle over hver programcelle, slik at det er klart hva hver oppgave skal løse. I oppgavene jeg har utført skal jeg vise at jeg har forståelse for ulike felter innen python. Som print, dictionary og pyplot"
   ]
  },
  {
   "cell_type": "markdown",
   "id": "9f7c624c-40f4-49e7-99d1-982fc7073b6f",
   "metadata": {},
   "source": [
    "### Oppgave nr 1\n",
    "\n",
    "#### Program som skriver ut en tekst etter hvor gammel en person er fra år 2024. "
   ]
  },
  {
   "cell_type": "code",
   "execution_count": 24,
   "id": "aa27327c-e14e-4464-af74-85edcc10319c",
   "metadata": {},
   "outputs": [
    {
     "name": "stdin",
     "output_type": "stream",
     "text": [
      "Hvilket år er du født? 1974\n"
     ]
    },
    {
     "name": "stdout",
     "output_type": "stream",
     "text": [
      "Du er eller har blitt 50 år i 2024\n"
     ]
    }
   ],
   "source": [
    "# import datetime  # Trengs hvis jeg skulle brukt datetime for å få hvilket år vi er i\n",
    "# aar = datetime.datetime.now().year  # Denne kunne jeg brukt i ett program for at det hele tiden skulle hatt hvilket år vi er i\n",
    "\n",
    "alder = int(input(\"Hvilket år er du født?\"))\n",
    "aar = 2024  # Oppgaven ber om 2024. Så da gir jeg inn det som en variabel\n",
    "\n",
    "person = aar - alder\n",
    "\n",
    "print(\"Du er eller har blitt\", person, \"år i\", aar)"
   ]
  },
  {
   "cell_type": "markdown",
   "id": "141436e5-aed5-48cb-91e1-174c1e42e1b9",
   "metadata": {},
   "source": [
    "### Oppgave nr 2\n",
    "\n",
    "#### Her vil jeg regne ut hvor mange pizza jeg trenger til en klassefest. Jeg tar utgangspunkt i at hver elev spiser 1/4 pizza. Resultatet skal runde opp til nærmeste heltall"
   ]
  },
  {
   "cell_type": "code",
   "execution_count": 25,
   "id": "af3398e7-9871-467b-9566-65821e49829b",
   "metadata": {},
   "outputs": [
    {
     "name": "stdin",
     "output_type": "stream",
     "text": [
      "Skriv inn antall elever: 25\n"
     ]
    },
    {
     "name": "stdout",
     "output_type": "stream",
     "text": [
      "Til klassefesten trengs det 7 pizza til 25 elever, hvor det regnes med 1/4 pizza til hver elev\n"
     ]
    }
   ],
   "source": [
    "import numpy as np\n",
    "\n",
    "# Ber brukeren om å skrive inn antall elever\n",
    "antall_elever=int(input(\"Skriv inn antall elever:\"))\n",
    "\n",
    "# Definerer hvor mye pizza hver elev skal få (1/4 pizza per elev)\n",
    "pizza_elev = 0.25\n",
    "\n",
    "# Beregner totalt antall pizzaer som trengs, og runder opp til nærmeste hele tall ved bruk av np.ceil\n",
    "antall_pizza = np.ceil(pizza_elev * antall_elever)\n",
    "\n",
    "# Skriver ut resultatet\n",
    "print(f\"Til klassefesten trengs det {antall_pizza:.0f} pizza til\", antall_elever, \"elever, hvor det regnes med 1/4 pizza til hver elev\")\n",
    "\n"
   ]
  },
  {
   "cell_type": "markdown",
   "id": "16389580-d6be-471c-b45a-16c511fc9311",
   "metadata": {},
   "source": [
    "### Oppgave nr 3\n",
    "##### Dette programmet regner om fra grader til radianer ved at bruker angir grader"
   ]
  },
  {
   "cell_type": "code",
   "execution_count": 27,
   "id": "bc845a05-29f9-4038-8003-6761ad5bd0dd",
   "metadata": {},
   "outputs": [
    {
     "name": "stdin",
     "output_type": "stream",
     "text": [
      "Skriv inn gradtallet: 30\n"
     ]
    },
    {
     "name": "stdout",
     "output_type": "stream",
     "text": [
      "30.0 grader, blir til 0.52 radianer\n"
     ]
    }
   ],
   "source": [
    "import numpy as np\n",
    "\n",
    "# Ber brukeren om å skrive inn en grad\n",
    "v_grad = float(input(\"Skriv inn gradtallet:\"))  # Konverterer brukerens input til et flyttall (float) for å kunne utføre beregninger\n",
    "\n",
    "# Formel for å regne om graden til radianer er (grader * pi / 180)\n",
    "v_rad = v_grad*np.pi/180\n",
    "\n",
    "# Skriver ut resultatet\n",
    "print(v_grad, \"grader, blir til\", f\"{v_rad:.2f}\", \"radianer\")  # Skriver ut resultatet og forkorter svaret til 2 desimaler med f-streng"
   ]
  },
  {
   "cell_type": "markdown",
   "id": "f199b4ac-3dc1-4aef-92e0-8a71a2d4d3ef",
   "metadata": {},
   "source": [
    "### Oppgave nr 4\n",
    "### Bruk av dictonary og lagring av data om ulike land"
   ]
  },
  {
   "cell_type": "markdown",
   "id": "e8d125d2-5d00-4bf7-a869-449746660f06",
   "metadata": {},
   "source": [
    "#### a) Lager en dictionary med ulike nøkler med info om hovedstad og innbygger i millioner"
   ]
  },
  {
   "cell_type": "code",
   "execution_count": 1,
   "id": "bec29302-9ea7-4a42-a2f9-bed75f75ad48",
   "metadata": {},
   "outputs": [],
   "source": [
    "data = {\n",
    "    \"Norge\": [\"Oslo\", 0.634],\n",
    "    \"England\": [\"London\", 8.982],\n",
    "    \"Frankrike\": [\"Paris\", 2.161],\n",
    "    \"Italia\": [\"Roma\", 2.873],\n",
    "    }"
   ]
  },
  {
   "cell_type": "markdown",
   "id": "6cfacbe7-b267-4f20-9958-933c7acc6de9",
   "metadata": {},
   "source": [
    "### b) Her lager jeg ett program hvor brukeren kan få ut informasjon om ett land de gir inn.\n",
    "\n",
    "#### Dette programmet ber brukeren om å skrive inn navnet på et land og sjekker om landet finnes i en forhåndsdefinert liste (ordbok) over land. \n",
    "Hvis landet finnes i listen, skriver programmet ut hovedstaden og befolkningen i landet. \n",
    "Hvis landet ikke finnes i listen, informerer programmet brukeren om at landet ikke er tilgjengelig.\n",
    "\n",
    "#### Bruk:\n",
    "1. Skriv inn navnet på et land når du blir bedt om det.\n",
    "2. Programmet vil sjekke om landet finnes i listen og skrive ut relevant informasjon, eller informere deg om at landet ikke finnes i listen.\n"
   ]
  },
  {
   "cell_type": "code",
   "execution_count": 32,
   "id": "b12387c2-8bc8-4391-93da-e1d1f5020179",
   "metadata": {},
   "outputs": [
    {
     "name": "stdin",
     "output_type": "stream",
     "text": [
      "Skriv inn ett land:  England\n"
     ]
    },
    {
     "name": "stdout",
     "output_type": "stream",
     "text": [
      "London er hovedstaden i England og det er 8.982 millioner innbyggere i London\n"
     ]
    }
   ],
   "source": [
    "# Kunne ha laget en liste over land som er i lista, men den kunne blitt veldig lang\n",
    "\n",
    "\"\"\"\n",
    "# print(\"Tilgjengelige land:\")\n",
    "# for steder in data.keys():\n",
    "   #  print(steder)\n",
    "\"\"\"\n",
    "\n",
    "# Ber brukeren gi inn ett land\n",
    "land = input(\"Skriv inn ett land: \")\n",
    "\n",
    "\n",
    "if land in data:\n",
    "    hovedstad, befolkning = data[land]  # definerer variabler til listen til bruk i print funskjon\n",
    "    print(f\"{hovedstad} er hovedstaden i {land} og det er {befolkning} millioner innbyggere i {hovedstad}\")\n",
    "else:\n",
    "    print(\"Landet finnes ikke i listen. Vennligst prøv igjen.\")\n"
   ]
  },
  {
   "cell_type": "markdown",
   "id": "e1c7467f-6982-4b30-91ef-396e5d0bee5c",
   "metadata": {},
   "source": [
    "### c) Her skal brukeren kunne utvide lista hvis landet ikke finnes."
   ]
  },
  {
   "cell_type": "code",
   "execution_count": 34,
   "id": "6803a229-3802-4b90-b4f5-b1e56379e574",
   "metadata": {},
   "outputs": [
    {
     "name": "stdin",
     "output_type": "stream",
     "text": [
      "Skriv inn ett land:  Nederland\n"
     ]
    },
    {
     "name": "stdout",
     "output_type": "stream",
     "text": [
      "Landet finnes ikke i listen.\n"
     ]
    },
    {
     "name": "stdin",
     "output_type": "stream",
     "text": [
      "Vil du legge til dette landet i listen? (ja/nei):  ja\n",
      "Skriv inn hovedstaden:  Amsterdam\n",
      "Skriv inn befolkningen i millioner:  17.9\n"
     ]
    },
    {
     "name": "stdout",
     "output_type": "stream",
     "text": [
      "Nederland er lagt til i listen med hovedstaden Amsterdam og en befolkning på 17.9 millioner.\n",
      "{'Norge': ['Oslo', 0.634], 'England': ['London', 8.982], 'Frankrike': ['Paris', 2.161], 'Italia': ['Roma', 2.873], 'Nederland': ['Amsterdam', 17.9]}\n"
     ]
    }
   ],
   "source": [
    "# Ber brukeren gi inn ett land\n",
    "land = input(\"Skriv inn ett land: \")  # Ber brukeren oppgi ett land\n",
    "\n",
    "if land in data:\n",
    "    hovedstad, befolkning = data[land]  # definerer variabler til listen til bruk i print funskjon og fortelle hva brukeren skal oppgi\n",
    "    print(f\"{hovedstad} er hovedstaden i {land} og det er {befolkning} millioner innbyggere i {hovedstad}\")\n",
    "else:\n",
    "    print(\"Landet finnes ikke i listen.\")  # skriver dette om landet ikke finnes\n",
    "    legg_til = input(\"Vil du legge til dette landet i listen? (ja/nei): \").strip().lower()  # Spør om brukeren vil legge det til med at de skriver ja/nei under. strip passer på at det fjernes eventuelle mellomrom, og lower passer på at det brukeren gir inn er i små bokstaver selv om de skriver f.eks JA\n",
    "    if legg_til == \"ja\":\n",
    "        ny_hovedstad = input(\"Skriv inn hovedstaden: \")\n",
    "        ny_befolkning = float(input(\"Skriv inn befolkningen i millioner: \"))\n",
    "        data[land] = [ny_hovedstad, ny_befolkning]\n",
    "        print(f\"{land} er lagt til i listen med hovedstaden {ny_hovedstad} og en befolkning på {ny_befolkning} millioner.\")\n",
    "    else:\n",
    "        print(\"Landet ble ikke lagt til.\")\n",
    "\n",
    "print(data)  # Liser opp ordbok (dictionary) med det som er lagt inn\n"
   ]
  },
  {
   "cell_type": "markdown",
   "id": "308fa94a-d343-40fc-930b-8ed71355d2ea",
   "metadata": {},
   "source": [
    "### Oppgave 5\n",
    "##### Her har jeg laget ett program som det skal oppgis a og b, og arealet blir beregnet som ytre omkrets til en figur"
   ]
  },
  {
   "cell_type": "code",
   "execution_count": 23,
   "id": "1ef1a9b9-ea5f-4749-859a-902fa72925c8",
   "metadata": {},
   "outputs": [
    {
     "name": "stdin",
     "output_type": "stream",
     "text": [
      "Skriv inn lengden av den lille kateten (side a) og diameteren til halvsirkelen:  3\n",
      "Skriv inn lengden av den store kateten (side b) i trekanten:  10\n"
     ]
    },
    {
     "name": "stdout",
     "output_type": "stream",
     "text": [
      "Arealet av figuren er 18.53 kvadratmeter.\n",
      "Ytre omkrets av figuren er 25.15 meter.\n"
     ]
    }
   ],
   "source": [
    "# import numpy as np\n",
    "\n",
    "def areal_omkrets(a, b):\n",
    "\n",
    "    \"\"\"\n",
    "    Regner ut arealet og ytre omkrets av en kombinert trekant og en halvsirkel på trekantens lille katet.\n",
    "    a er lengden på den lille kateten og sirkelens diameter.\n",
    "    b er lengden på trekantens store katet.\n",
    "    Resultatet er en ordbok som består av det samlede arealet og omkretsen.\n",
    "    \"\"\"\n",
    "\n",
    "    # Beregn arealet av halvsirkelen\n",
    "    areal_sirkel = np.pi * (a / 2) ** 2 / 2  # Kun halve sirkelen så delt med 2\n",
    "    \n",
    "    # Beregn arealet av den rettvinklede trekanten\n",
    "    areal_trekant = a * b / 2\n",
    "\n",
    "    # Beregn omkretsen av halvsirkelen\n",
    "    omkrets_sirkel = np.pi * (a / 2)\n",
    "\n",
    "    # Beregn omkretsen av trekanten\n",
    "    omkrets_trekant = b + np.sqrt(a ** 2 + b ** 2)\n",
    "\n",
    "    # Returnerer en ordbok (dictionary)\n",
    "    return{\n",
    "        \"areal\": areal_sirkel + areal_trekant,\n",
    "        \"omkrets\": omkrets_sirkel + omkrets_trekant\n",
    "    }\n",
    "\n",
    "    \n",
    "# Ber brukeren om å skrive inn verdiene for a og b\n",
    "a_input = float(input(\"Skriv inn lengden av den lille kateten (side a) og diameteren til halvsirkelen: \"))\n",
    "b_input = float(input(\"Skriv inn lengden av den store kateten (side b) i trekanten: \"))\n",
    "\n",
    "# Beregn arealet og omkretsen\n",
    "resultater = areal_omkrets(a_input, b_input)\n",
    "\n",
    "# Skriv ut resultatene av areal og omkrets\n",
    "print(f\"Arealet av figuren er {resultater[\"areal\"]:.2f} kvadratmeter.\")\n",
    "print(f\"Ytre omkrets av figuren er {resultater[\"omkrets\"]:.2f} meter.\")"
   ]
  },
  {
   "cell_type": "code",
   "execution_count": 22,
   "id": "9697e2a8-4c0d-4272-9f5f-e3da9110d7e4",
   "metadata": {},
   "outputs": [
    {
     "name": "stdout",
     "output_type": "stream",
     "text": [
      "Help on function areal_omkrets in module __main__:\n",
      "\n",
      "areal_omkrets(a, b)\n",
      "    Regner ut arealet og ytre omkrets av en kombinert trekant og en halvsirkel på trekantens lille katet.\n",
      "    a er lengden på den lille kateten og sirkelens diameter.\n",
      "    b er lengden på trekantens store katet.\n",
      "    Resultatet er en ordbok som består av det samlede arealet og omkretsen.\n",
      "\n"
     ]
    }
   ],
   "source": [
    "help(areal_omkrets)"
   ]
  },
  {
   "cell_type": "markdown",
   "id": "b607024d-0df1-4391-b7f8-f95338d87776",
   "metadata": {},
   "source": [
    "### Oppgave 6\n",
    "##### Plotting av data med intervall [-10,10] for funksjonen -x^2 - 5"
   ]
  },
  {
   "cell_type": "code",
   "execution_count": 16,
   "id": "7dac1b91-4666-43ea-bf53-072a1b4deb96",
   "metadata": {},
   "outputs": [
    {
     "data": {
      "image/png": "[encoded data removed]",
      "text/plain": [
       "<Figure size 1200x900 with 1 Axes>"
      ]
     },
     "metadata": {},
     "output_type": "display_data"
    }
   ],
   "source": [
    "import numpy as np\n",
    "import matplotlib.pyplot as plt\n",
    "\n",
    "# Definer funksjonen f(x)\n",
    "def f(x):\n",
    "    return -x**2 - 5\n",
    "\n",
    "# Generer 200 punkter jevnt fordelt på intervallet [-10, 10]\n",
    "x = np.linspace(-10, 10, 200)\n",
    "\n",
    "# Beregn verdiene til f(x) for hvert punkt i x\n",
    "y = f(x)\n",
    "\n",
    "# Plot funksjonen\n",
    "plt.close(\"all\")\n",
    "plt.figure(1, figsize=(12,9))\n",
    "plt.plot(x, y, label=\"f(x) = -x^2 - 5\") \n",
    "plt.xlabel(\"x\")\n",
    "plt.ylabel(\"f(x)\")\n",
    "plt.title(\"Plot av funksjonen f(x) = -x^2 - 5\")\n",
    "plt.legend()\n",
    "plt.grid()\n",
    "plt.show()"
   ]
  },
  {
   "cell_type": "code",
   "execution_count": null,
   "id": "60d837f4-ffdc-4c34-beba-c836267ec42e",
   "metadata": {},
   "outputs": [],
   "source": []
  }
 ],
 "metadata": {
  "kernelspec": {
   "display_name": "Python 3 (ipykernel)",
   "language": "python",
   "name": "python3"
  },
  "language_info": {
   "codemirror_mode": {
    "name": "ipython",
    "version": 3
   },
   "file_extension": ".py",
   "mimetype": "text/x-python",
   "name": "python",
   "nbconvert_exporter": "python",
   "pygments_lexer": "ipython3",
   "version": "3.11.10"
  }
 },
 "nbformat": 4,
 "nbformat_minor": 5
}
